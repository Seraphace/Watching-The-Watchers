{
 "cells": [
  {
   "cell_type": "code",
   "execution_count": null,
   "metadata": {},
   "outputs": [],
   "source": [
    "# check python version\n",
    "# import sys\n",
    "# print(sys.version)"
   ]
  },
  {
   "cell_type": "code",
   "execution_count": null,
   "metadata": {},
   "outputs": [],
   "source": [
    "# install firebase if you dont have it\n",
    "# !pip3 install python-firebase\n",
    "# !pip3 install firebase\n",
    "# !pip3 install python_jwt\n",
    "# !pip3 install gcloud\n",
    "# !pip3 install sseclient\n",
    "# !pip3 install pycrypto\n",
    "# !pip3 install requests_toolbelt\n",
    "# !pip3 install pandas"
   ]
  },
  {
   "cell_type": "code",
   "execution_count": 1,
   "metadata": {},
   "outputs": [],
   "source": [
    "from firebase import firebase\n",
    "import pandas as pd\n",
    "firebase = firebase.FirebaseApplication('https://watchingthewatchers.firebaseio.com', None)\n",
    "result = firebase.get('/data', None)"
   ]
  },
  {
   "cell_type": "code",
   "execution_count": 32,
   "metadata": {},
   "outputs": [],
   "source": [
    "col = ['page_name', 'adtech_name', 'adtech_url', 'adtech_enabled', 'adtech_type', 'page_initator']\n",
    "rows = []"
   ]
  },
  {
   "cell_type": "code",
   "execution_count": 38,
   "metadata": {},
   "outputs": [],
   "source": [
    "for name, tracker in result.items():\n",
    "    _list = []\n",
    "    for _key, adtech in tracker.items():\n",
    "        for _adtech, data in adtech.items():\n",
    "            _list = []\n",
    "            _list.append(name)\n",
    "#             print(data)\n",
    "            _list.append(_adtech)\n",
    "            _list.append(data['_url'])\n",
    "            _list.append(data['enabled'])\n",
    "            _list.append(data['type'])\n",
    "            _list.append(data['initiator'])\n",
    "            rows.append(_list)"
   ]
  },
  {
   "cell_type": "code",
   "execution_count": 36,
   "metadata": {},
   "outputs": [],
   "source": [
    "df = pd.DataFrame(columns=col, data=rows)"
   ]
  },
  {
   "cell_type": "code",
   "execution_count": 43,
   "metadata": {},
   "outputs": [
    {
     "data": {
      "text/plain": [
       "(630, 6)"
      ]
     },
     "execution_count": 43,
     "metadata": {},
     "output_type": "execute_result"
    }
   ],
   "source": [
    "df.shape"
   ]
  },
  {
   "cell_type": "code",
   "execution_count": 44,
   "metadata": {},
   "outputs": [
    {
     "data": {
      "text/plain": [
       "3780"
      ]
     },
     "execution_count": 44,
     "metadata": {},
     "output_type": "execute_result"
    }
   ],
   "source": [
    "df.size"
   ]
  },
  {
   "cell_type": "code",
   "execution_count": 45,
   "metadata": {},
   "outputs": [
    {
     "data": {
      "text/plain": [
       "2"
      ]
     },
     "execution_count": 45,
     "metadata": {},
     "output_type": "execute_result"
    }
   ],
   "source": [
    "df.ndim"
   ]
  },
  {
   "cell_type": "code",
   "execution_count": 46,
   "metadata": {},
   "outputs": [
    {
     "data": {
      "text/html": [
       "<div>\n",
       "<style scoped>\n",
       "    .dataframe tbody tr th:only-of-type {\n",
       "        vertical-align: middle;\n",
       "    }\n",
       "\n",
       "    .dataframe tbody tr th {\n",
       "        vertical-align: top;\n",
       "    }\n",
       "\n",
       "    .dataframe thead th {\n",
       "        text-align: right;\n",
       "    }\n",
       "</style>\n",
       "<table border=\"1\" class=\"dataframe\">\n",
       "  <thead>\n",
       "    <tr style=\"text-align: right;\">\n",
       "      <th></th>\n",
       "      <th>page_name</th>\n",
       "      <th>adtech_name</th>\n",
       "      <th>adtech_url</th>\n",
       "      <th>adtech_enabled</th>\n",
       "      <th>adtech_type</th>\n",
       "      <th>page_initator</th>\n",
       "    </tr>\n",
       "  </thead>\n",
       "  <tbody>\n",
       "    <tr>\n",
       "      <th>0</th>\n",
       "      <td>:bestbuycaen-ca1564262892685</td>\n",
       "      <td>33Across</td>\n",
       "      <td>https://cms-xch.33across.com/</td>\n",
       "      <td>False</td>\n",
       "      <td>Advertising</td>\n",
       "      <td></td>\n",
       "    </tr>\n",
       "    <tr>\n",
       "      <th>1</th>\n",
       "      <td>:bestbuycaen-ca1564262892685</td>\n",
       "      <td>ADTECH</td>\n",
       "      <td>https://aka-cdn.adtechus.com/</td>\n",
       "      <td>False</td>\n",
       "      <td>Site Analytics</td>\n",
       "      <td></td>\n",
       "    </tr>\n",
       "    <tr>\n",
       "      <th>2</th>\n",
       "      <td>:bestbuycaen-ca1564262892685</td>\n",
       "      <td>AdGear</td>\n",
       "      <td>https://cm.adgrx.com/</td>\n",
       "      <td>False</td>\n",
       "      <td>Advertising</td>\n",
       "      <td></td>\n",
       "    </tr>\n",
       "    <tr>\n",
       "      <th>3</th>\n",
       "      <td>:bestbuycaen-ca1564262892685</td>\n",
       "      <td>Adform</td>\n",
       "      <td>https://c1.adform.net/s</td>\n",
       "      <td>False</td>\n",
       "      <td>Advertising</td>\n",
       "      <td></td>\n",
       "    </tr>\n",
       "    <tr>\n",
       "      <th>4</th>\n",
       "      <td>:bestbuycaen-ca1564262892685</td>\n",
       "      <td>Adobe Audience Manager</td>\n",
       "      <td>https://dpm.demdex.net/</td>\n",
       "      <td>False</td>\n",
       "      <td>Advertising</td>\n",
       "      <td></td>\n",
       "    </tr>\n",
       "  </tbody>\n",
       "</table>\n",
       "</div>"
      ],
      "text/plain": [
       "                      page_name             adtech_name  \\\n",
       "0  :bestbuycaen-ca1564262892685                33Across   \n",
       "1  :bestbuycaen-ca1564262892685                  ADTECH   \n",
       "2  :bestbuycaen-ca1564262892685                  AdGear   \n",
       "3  :bestbuycaen-ca1564262892685                  Adform   \n",
       "4  :bestbuycaen-ca1564262892685  Adobe Audience Manager   \n",
       "\n",
       "                      adtech_url  adtech_enabled     adtech_type page_initator  \n",
       "0  https://cms-xch.33across.com/           False     Advertising                \n",
       "1  https://aka-cdn.adtechus.com/           False  Site Analytics                \n",
       "2          https://cm.adgrx.com/           False     Advertising                \n",
       "3        https://c1.adform.net/s           False     Advertising                \n",
       "4        https://dpm.demdex.net/           False     Advertising                "
      ]
     },
     "execution_count": 46,
     "metadata": {},
     "output_type": "execute_result"
    }
   ],
   "source": [
    "df.head()"
   ]
  }
 ],
 "metadata": {
  "kernelspec": {
   "display_name": "Python 3",
   "language": "python",
   "name": "python3"
  },
  "language_info": {
   "codemirror_mode": {
    "name": "ipython",
    "version": 3
   },
   "file_extension": ".py",
   "mimetype": "text/x-python",
   "name": "python",
   "nbconvert_exporter": "python",
   "pygments_lexer": "ipython3",
   "version": "3.7.4"
  }
 },
 "nbformat": 4,
 "nbformat_minor": 2
}
